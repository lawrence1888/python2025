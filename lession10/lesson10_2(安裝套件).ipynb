{
 "cells": [
  {
   "cell_type": "markdown",
   "id": "9eba4710",
   "metadata": {},
   "source": [
    "##安裝套件\n",
    "###1.先建立requirements.txt\n",
    "###2.在requirements.txt輸入你要的套件(pandas、numpy、matplotlib、seaborn)\n",
    "###3.儲存requirements.txt\n",
    "###4.在終端機上打 pip install -r requirements.txt(注意前面路徑為C:\\Users\\User\\python2025>)"
   ]
  },
  {
   "cell_type": "markdown",
   "id": "098cf6f9",
   "metadata": {},
   "source": []
  }
 ],
 "metadata": {
  "language_info": {
   "name": "python"
  }
 },
 "nbformat": 4,
 "nbformat_minor": 5
}
