{
  "nbformat": 4,
  "nbformat_minor": 0,
  "metadata": {
    "colab": {
      "provenance": [],
      "authorship_tag": "ABX9TyOlqU5+v5tuFSDV71XVyvCI",
      "include_colab_link": true
    },
    "kernelspec": {
      "name": "python3",
      "display_name": "Python 3"
    },
    "language_info": {
      "name": "python"
    }
  },
  "cells": [
    {
      "cell_type": "markdown",
      "metadata": {
        "id": "view-in-github",
        "colab_type": "text"
      },
      "source": [
        "<a href=\"https://colab.research.google.com/github/lawrence1888/python2025/blob/main/lesson2/lesson2_1.ipynb\" target=\"_parent\"><img src=\"https://colab.research.google.com/assets/colab-badge.svg\" alt=\"Open In Colab\"/></a>"
      ]
    },
    {
      "cell_type": "markdown",
      "source": [
        "* = 為指定運算子\n",
        "* 2+3*4為兩件事，為運算式"
      ],
      "metadata": {
        "id": "uYmuSoDkqn8k"
      }
    },
    {
      "cell_type": "code",
      "execution_count": 1,
      "metadata": {
        "id": "e4Skjq39pPlU",
        "colab": {
          "base_uri": "https://localhost:8080/"
        },
        "outputId": "6a3ad0d5-e297-4648-87e1-bf7bd0e1450a"
      },
      "outputs": [
        {
          "output_type": "execute_result",
          "data": {
            "text/plain": [
              "14"
            ]
          },
          "metadata": {},
          "execution_count": 1
        }
      ],
      "source": [
        "2+3*4"
      ]
    },
    {
      "cell_type": "markdown",
      "source": [
        "###第一行會做六件事\n",
        "###運算式->會傳出值\n",
        "\n",
        "###運算子的優先順序\n",
        "* 1.()   \n",
        "* 2.**\n",
        "* 3.* / % //\n",
        "* 4.+ -\n",
        "* 5.=\n",
        "\n",
        "#n=10為敘述句\n",
        "\n",
        "\n"
      ],
      "metadata": {
        "id": "4xK2KxjVswWf"
      }
    },
    {
      "cell_type": "code",
      "source": [
        "2*(1+2)**2-2**2*2\n",
        "n=2*(1+2)**2-2**2*2\n",
        "n*10\n",
        "print(n)\n",
        "n1=n*10\n",
        "print(n1)"
      ],
      "metadata": {
        "colab": {
          "base_uri": "https://localhost:8080/"
        },
        "id": "N-N6YZmtr1wS",
        "outputId": "8abdb483-d42c-492b-ca07-bfe3f37eab66"
      },
      "execution_count": 7,
      "outputs": [
        {
          "output_type": "stream",
          "name": "stdout",
          "text": [
            "10\n",
            "100\n"
          ]
        }
      ]
    }
  ]
}