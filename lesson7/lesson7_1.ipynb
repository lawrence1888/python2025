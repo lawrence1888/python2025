{
 "cells": [
  {
   "cell_type": "code",
   "execution_count": null,
   "id": "993d1fff",
   "metadata": {},
   "outputs": [
    {
     "name": "stdout",
     "output_type": "stream",
     "text": [
      "20.028841531805796\n",
      "正常範圍\n"
     ]
    }
   ],
   "source": [
    "# 建立lesson7資料夾和lesson7_1.ipynb，在資料夾右鍵「在整合是終端機開啟」\n",
    "# 右下角虛擬環境選取自己建立的虛擬環境chilee1->+號下拉選擇「選取預設設定檔」->搜尋視窗選「CMD」->輸入文字和程式\n",
    "# 執行後在搜尋視窗中輸入身高體重後，才會顯示結果\n",
    "#function為執行程式，major為執行專案，\n",
    "\n",
    "\n",
    "def caculate_bmi(h:int,w:int)->float:\n",
    "    return w / (h / 100) ** 2\n",
    "\n",
    "def get_state(b:float)->str:\n",
    "    if b < 18.5:\n",
    "        return \"體重過輕\"\n",
    "    elif b < 24:\n",
    "        return \"正常範圍\"\n",
    "    elif b < 27:\n",
    "        return \"過重\"\n",
    "    elif b < 30:\n",
    "        return \"輕度肥胖\"\n",
    "    elif b < 35:\n",
    "        return \"中度肥胖\"\n",
    "    else:\n",
    "        return \"重度肥胖\"\n",
    "\n",
    "height:int = int(input(\"請輸入身高(cm):\"))\n",
    "weight:int = int(input(\"請輸入體重(kg):\"))\n",
    "\n",
    "bmi = caculate_bmi(height, weight)\n",
    "\n",
    "print(bmi)\n",
    "print(get_state(bmi))"
   ]
  },
  {
   "cell_type": "code",
   "execution_count": null,
   "id": "c9095524",
   "metadata": {},
   "outputs": [],
   "source": []
  }
 ],
 "metadata": {
  "kernelspec": {
   "display_name": "chilee1",
   "language": "python",
   "name": "python3"
  },
  "language_info": {
   "codemirror_mode": {
    "name": "ipython",
    "version": 3
   },
   "file_extension": ".py",
   "mimetype": "text/x-python",
   "name": "python",
   "nbconvert_exporter": "python",
   "pygments_lexer": "ipython3",
   "version": "3.10.16"
  }
 },
 "nbformat": 4,
 "nbformat_minor": 5
}
