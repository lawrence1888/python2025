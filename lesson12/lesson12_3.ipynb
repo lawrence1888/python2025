{
 "cells": [
  {
   "cell_type": "markdown",
   "id": "f25a1499",
   "metadata": {},
   "source": [
    "## 1. module（模組）是什麼？\n",
    "- * 模組是 Python 的一個檔案（.py），包含函式、類別、變數等程式碼集合。\n",
    "\n",
    "- * 模組本身不可被繼承，也不能被實體化（不能用來建立物件）。\n",
    "\n",
    "- * 透過 import 模組名稱 引入，模組本身就是一個命名空間。\n",
    "\n",
    "- * 例如：import math，math 是模組，裡面有函式和常數。\n",
    "\n",
    "## 2. 實體（instance）是什麼？\n",
    "- * 實體是由類別（class）建立出來的物件。\n",
    "\n",
    "- * 實體有自己的屬性（實體變數）和方法，代表具體的「物件」。\n",
    "\n",
    "- * 透過類別呼叫建構子（通常是 __init__）產生，如 obj = MyClass()，obj 就是實體。\n",
    "\n",
    "- * 每個實體擁有獨立的狀態，彼此互不影響。"
   ]
  },
  {
   "cell_type": "code",
   "execution_count": 2,
   "id": "f1f30695",
   "metadata": {},
   "outputs": [
    {
     "name": "stdout",
     "output_type": "stream",
     "text": [
      "<class 'module'>\n",
      "<class '__main__.Person'>\n"
     ]
    }
   ],
   "source": [
    "import math  # math 是模組\n",
    "print(type(math))  # <class 'module'>\n",
    "\n",
    "class Person:\n",
    "    def __init__(self, name):\n",
    "        self.name = name\n",
    "\n",
    "p = Person(\"Alice\")  # p 是 Person 類別的實體\n",
    "print(type(p))  # <class '__main__.Person'>"
   ]
  }
 ],
 "metadata": {
  "kernelspec": {
   "display_name": "chilee1",
   "language": "python",
   "name": "python3"
  },
  "language_info": {
   "codemirror_mode": {
    "name": "ipython",
    "version": 3
   },
   "file_extension": ".py",
   "mimetype": "text/x-python",
   "name": "python",
   "nbconvert_exporter": "python",
   "pygments_lexer": "ipython3",
   "version": "3.10.18"
  }
 },
 "nbformat": 4,
 "nbformat_minor": 5
}
