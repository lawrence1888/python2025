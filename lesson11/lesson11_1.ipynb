{
 "cells": [
  {
   "cell_type": "markdown",
   "id": "f67a8c40",
   "metadata": {},
   "source": [
    "https://www.perplexity.ai/search/f834ba4a-c32d-48c7-bfc3-36ef4d2b6d11"
   ]
  },
  {
   "cell_type": "markdown",
   "id": "5ddbdf14",
   "metadata": {},
   "source": [
    "####資料：\n",
    "- * list：搜尋list資料用 for..in..迴圈搜尋\n",
    "- * dictionary(是一組相關的資料)\n",
    "- * numpy(處理快速)"
   ]
  },
  {
   "cell_type": "code",
   "execution_count": 19,
   "id": "d834803a",
   "metadata": {},
   "outputs": [
    {
     "data": {
      "text/plain": [
       "[15, 25, 35, 45, 55]"
      ]
     },
     "execution_count": 19,
     "metadata": {},
     "output_type": "execute_result"
    }
   ],
   "source": [
    "scores:list=[10,20,30,40,50]\n",
    "scores:list=list(range(10,60,10))\n",
    "scores\n",
    "\n",
    "# ctr+/是備註的快捷鍵\n",
    "# 用np.array就可以不用for..in..迴圈\n",
    "scores1:list=list()\n",
    "for score in scores:\n",
    "    score += 5\n",
    "    scores1.append(score)\n",
    "scores1\n",
    "\n"
   ]
  },
  {
   "cell_type": "code",
   "execution_count": 12,
   "id": "c2268811",
   "metadata": {},
   "outputs": [
    {
     "data": {
      "text/plain": [
       "[15, 25, 35, 45, 55]"
      ]
     },
     "execution_count": 12,
     "metadata": {},
     "output_type": "execute_result"
    }
   ],
   "source": [
    "scores2 = [score+5 for score in scores]\n",
    "scores2"
   ]
  },
  {
   "cell_type": "code",
   "execution_count": 18,
   "id": "2422f9f3",
   "metadata": {},
   "outputs": [
    {
     "data": {
      "text/plain": [
       "array([15, 25, 35, 45, 55])"
      ]
     },
     "execution_count": 18,
     "metadata": {},
     "output_type": "execute_result"
    }
   ],
   "source": [
    "#numpy\n",
    "#在終端機上打 pip install -r requirements.txt\n",
    "import numpy as np\n",
    "\n",
    "array = np.array([10, 20 , 30, 40, 50])\n",
    "type(array)\n",
    "array1 = array + 5\n",
    "array1"
   ]
  },
  {
   "cell_type": "code",
   "execution_count": null,
   "id": "28782bc8",
   "metadata": {},
   "outputs": [],
   "source": []
  }
 ],
 "metadata": {
  "kernelspec": {
   "display_name": "chilee1",
   "language": "python",
   "name": "python3"
  },
  "language_info": {
   "codemirror_mode": {
    "name": "ipython",
    "version": 3
   },
   "file_extension": ".py",
   "mimetype": "text/x-python",
   "name": "python",
   "nbconvert_exporter": "python",
   "pygments_lexer": "ipython3",
   "version": "3.10.18"
  }
 },
 "nbformat": 4,
 "nbformat_minor": 5
}
