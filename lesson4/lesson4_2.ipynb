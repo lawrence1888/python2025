{
  "nbformat": 4,
  "nbformat_minor": 0,
  "metadata": {
    "colab": {
      "provenance": [],
      "include_colab_link": true
    },
    "kernelspec": {
      "name": "python3",
      "display_name": "Python 3"
    },
    "language_info": {
      "name": "python"
    }
  },
  "cells": [
    {
      "cell_type": "markdown",
      "metadata": {
        "id": "view-in-github",
        "colab_type": "text"
      },
      "source": [
        "<a href=\"https://colab.research.google.com/github/lawrence1888/python2025/blob/main/lesson4/lesson4_2.ipynb\" target=\"_parent\"><img src=\"https://colab.research.google.com/assets/colab-badge.svg\" alt=\"Open In Colab\"/></a>"
      ]
    },
    {
      "cell_type": "markdown",
      "source": [
        "# python while迴圈說明\n",
        "\n",
        "---\n",
        "\n",
        "Python 的 while 迴圈用來根據條件判斷，重複執行某段程式碼，直到條件不成立為止。其基本語法如下：\n",
        "\n",
        "```\n",
        "while 條件:\n",
        "    程式區塊\n",
        "\n",
        "```\n",
        "\n",
        "•\t當條件為 True 時，會執行縮排的程式區塊。  \n",
        "•\t每次執行完程式區塊後，會再次檢查條件，若仍為 True，則繼續執行迴圈。  \n",
        "•\t當條件變為 False，迴圈結束，程式往下繼續執行。\n",
        "•\t使用時機：不知道迴圈幾次。\n",
        "```\n",
        "for...in....:\n",
        "    程式區塊\n",
        "```\n",
        "•\t使用時機：知道迴圈幾次。"
      ],
      "metadata": {
        "id": "zcDHxtwK8Ggo"
      }
    },
    {
      "cell_type": "code",
      "execution_count": 1,
      "metadata": {
        "id": "UoU5Yb0N7498",
        "colab": {
          "base_uri": "https://localhost:8080/"
        },
        "outputId": "53d57841-a219-4c14-e544-ed26dd15f7ad"
      },
      "outputs": [
        {
          "output_type": "stream",
          "name": "stdout",
          "text": [
            "1\n",
            "2\n",
            "3\n",
            "4\n",
            "5\n"
          ]
        }
      ],
      "source": [
        "#while迴圈要有3步驟：控制while迴圈的條件式內->設定變數的值->改變變數的值\n",
        "\n",
        "count = 1\n",
        "while count <= 5:\n",
        "    print(count)\n",
        "    count += 1"
      ]
    },
    {
      "cell_type": "code",
      "source": [
        "#while True:表示無限迴圈，break跳出迴圈，continue跳到下一輪迴圈\n",
        "\n",
        "total = 0\n",
        "while True:\n",
        "    num = int(input(\"請輸入一個數字（輸入 0 結束）：\"))\n",
        "    if num == 0:\n",
        "        break\n",
        "    total += num\n",
        "print(\"總和：\", total)"
      ],
      "metadata": {
        "colab": {
          "base_uri": "https://localhost:8080/"
        },
        "id": "c-Dto-NL_c7F",
        "outputId": "467e599a-b839-4128-b8f9-693c756ecd85"
      },
      "execution_count": 2,
      "outputs": [
        {
          "output_type": "stream",
          "name": "stdout",
          "text": [
            "請輸入一個數字（輸入 0 結束）：10\n",
            "請輸入一個數字（輸入 0 結束）：101\n",
            "請輸入一個數字（輸入 0 結束）：0\n",
            "總和： 111\n"
          ]
        }
      ]
    },
    {
      "cell_type": "markdown",
      "source": [
        "# python 取得亂數1~100"
      ],
      "metadata": {
        "id": "h6trKfR_HgTX"
      }
    },
    {
      "cell_type": "code",
      "source": [
        "#import random是內建函數(function))\n",
        "\n",
        "import random\n",
        "min = 1\n",
        "max = 99\n",
        "count = 0\n",
        "random_number = random.randint(min,max)\n",
        "#print(random_number)\n",
        "print(\"=====猜數字遊戲開始=========\\n\\n\")\n",
        "while True:\n",
        "  input_number = int(input(f\"請輸入數字({min}~{max}):\"))\n",
        "  count += 1\n",
        "  if(input_number == random_number):\n",
        "    print(f\"賓果!猜對了, 答案是:{input_number}\")\n",
        "    print(f\"您猜了:{count}次\")\n",
        "    break\n",
        "  elif(input_number>random_number):\n",
        "    print(f\"再小一點\")\n",
        "    max = input_number - 1\n",
        "  elif(input_number<random_number):\n",
        "    print(f\"再大一點\")\n",
        "    min = input_number + 1\n",
        "\n",
        "  print(f\"您已經猜了:{count}次\\n\")\n",
        "\n",
        "\n",
        "print(\"Game Over\")\n"
      ],
      "metadata": {
        "id": "Ivggv6gXIEXz",
        "outputId": "fea8f2ff-a992-4449-90bf-a4715e62b170",
        "colab": {
          "base_uri": "https://localhost:8080/"
        }
      },
      "execution_count": 5,
      "outputs": [
        {
          "output_type": "stream",
          "name": "stdout",
          "text": [
            "=====猜數字遊戲開始=========\n",
            "\n",
            "\n",
            "請輸入數字(1~99):50\n",
            "再大一點\n",
            "您已經猜了:1次\n",
            "\n",
            "請輸入數字(51~99):75\n",
            "再大一點\n",
            "您已經猜了:2次\n",
            "\n",
            "請輸入數字(76~99):85\n",
            "再小一點\n",
            "您已經猜了:3次\n",
            "\n",
            "請輸入數字(76~84):80\n",
            "再大一點\n",
            "您已經猜了:4次\n",
            "\n",
            "請輸入數字(81~84):82\n",
            "再小一點\n",
            "您已經猜了:5次\n",
            "\n",
            "請輸入數字(81~81):81\n",
            "賓果!猜對了, 答案是:81\n",
            "您猜了:6次\n",
            "Game Over\n"
          ]
        }
      ]
    },
    {
      "cell_type": "code",
      "source": [
        "orange = 3\n",
        "apple = 5\n",
        "\"您有orange\" + str(orange) + \"個, apple \" + str(apple) + \"個\""
      ],
      "metadata": {
        "id": "BBGPN8cNJfsJ",
        "outputId": "f8b000bc-e778-4164-aced-ab8cf3a4d5e6",
        "colab": {
          "base_uri": "https://localhost:8080/",
          "height": 35
        }
      },
      "execution_count": 4,
      "outputs": [
        {
          "output_type": "execute_result",
          "data": {
            "text/plain": [
              "'您有orange3個, apple 5個'"
            ],
            "application/vnd.google.colaboratory.intrinsic+json": {
              "type": "string"
            }
          },
          "metadata": {},
          "execution_count": 4
        }
      ]
    },
    {
      "cell_type": "code",
      "source": [
        "#f格式化，{}裡面放變數的值\n",
        "\n",
        "orange = 3\n",
        "apple = 5\n",
        "f\"您有orange{orange}個, apple {apple}個\""
      ],
      "metadata": {
        "id": "mlg4CDEjKYXF",
        "outputId": "c70ec7b4-bbe5-4b2f-893a-7763119acb24",
        "colab": {
          "base_uri": "https://localhost:8080/",
          "height": 35
        }
      },
      "execution_count": null,
      "outputs": [
        {
          "output_type": "execute_result",
          "data": {
            "text/plain": [
              "'您有orange3個, apple 5個'"
            ],
            "application/vnd.google.colaboratory.intrinsic+json": {
              "type": "string"
            }
          },
          "metadata": {},
          "execution_count": 19
        }
      ]
    }
  ]
}