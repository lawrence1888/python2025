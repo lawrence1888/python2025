{
  "nbformat": 4,
  "nbformat_minor": 0,
  "metadata": {
    "colab": {
      "provenance": [],
      "authorship_tag": "ABX9TyPHDhP4fnl6zgYv5qyZCyfV",
      "include_colab_link": true
    },
    "kernelspec": {
      "name": "python3",
      "display_name": "Python 3"
    },
    "language_info": {
      "name": "python"
    }
  },
  "cells": [
    {
      "cell_type": "markdown",
      "metadata": {
        "id": "view-in-github",
        "colab_type": "text"
      },
      "source": [
        "<a href=\"https://colab.research.google.com/github/lawrence1888/python2025/blob/main/lesson2/lesson2_1.ipynb\" target=\"_parent\"><img src=\"https://colab.research.google.com/assets/colab-badge.svg\" alt=\"Open In Colab\"/></a>"
      ]
    },
    {
      "cell_type": "markdown",
      "source": [
        "* = 為指定運算子\n",
        "* 2+3*4為兩件事，為運算式"
      ],
      "metadata": {
        "id": "uYmuSoDkqn8k"
      }
    },
    {
      "cell_type": "code",
      "execution_count": 1,
      "metadata": {
        "id": "e4Skjq39pPlU",
        "colab": {
          "base_uri": "https://localhost:8080/"
        },
        "outputId": "6a3ad0d5-e297-4648-87e1-bf7bd0e1450a"
      },
      "outputs": [
        {
          "output_type": "execute_result",
          "data": {
            "text/plain": [
              "14"
            ]
          },
          "metadata": {},
          "execution_count": 1
        }
      ],
      "source": [
        "2+3*4"
      ]
    },
    {
      "cell_type": "markdown",
      "source": [
        "####第一行會做六件事\n",
        "####運算式->會傳出值\n",
        "\n",
        "####運算子的優先順序\n",
        "* \\()   \n",
        "* \\**\n",
        "* \\* / % //\n",
        "* \\+ -\n",
        "* \\=\n",
        "\n",
        "####n=10為敘述句\n",
        "####print()為內建的function(函式)\n",
        "\n",
        "\n"
      ],
      "metadata": {
        "id": "4xK2KxjVswWf"
      }
    },
    {
      "cell_type": "code",
      "source": [
        "2*(1+2)**2-2**2*2\n",
        "n=2*(1+2)**2-2**2*2\n",
        "print(n)\n",
        "n1=n*10\n",
        "print(n1)"
      ],
      "metadata": {
        "colab": {
          "base_uri": "https://localhost:8080/"
        },
        "id": "N-N6YZmtr1wS",
        "outputId": "6b109ddc-0796-4014-bd40-a16085bbc9a5"
      },
      "execution_count": 9,
      "outputs": [
        {
          "output_type": "stream",
          "name": "stdout",
          "text": [
            "10\n",
            "100\n"
          ]
        }
      ]
    },
    {
      "cell_type": "markdown",
      "source": [
        "####(*=)複合指定運算子\n"
      ],
      "metadata": {
        "id": "MiOhk88812H2"
      }
    },
    {
      "cell_type": "code",
      "source": [
        "n=2*(1+2)**2-2**2*2\n",
        "n*=10\n",
        "print(n)"
      ],
      "metadata": {
        "colab": {
          "base_uri": "https://localhost:8080/"
        },
        "id": "NbZvzZkU361D",
        "outputId": "8aff53a3-b58d-4ada-de78-2f02521bb805"
      },
      "execution_count": 17,
      "outputs": [
        {
          "output_type": "stream",
          "name": "stdout",
          "text": [
            "100\n"
          ]
        }
      ]
    },
    {
      "cell_type": "markdown",
      "source": [
        "####input(\"\")，字串可用單引號或雙引號"
      ],
      "metadata": {
        "id": "M3bvdHCZ7fLW"
      }
    },
    {
      "cell_type": "code",
      "source": [
        "name=input(\"請輸入您的姓名：\")\n",
        "print(\"您的名字\",name)"
      ],
      "metadata": {
        "colab": {
          "base_uri": "https://localhost:8080/"
        },
        "id": "BwUkj4ZZ7vfz",
        "outputId": "31079593-cd6c-404e-d07b-499638c60720"
      },
      "execution_count": 23,
      "outputs": [
        {
          "output_type": "stream",
          "name": "stdout",
          "text": [
            "請輸入您的姓名：楊珮珊\n",
            "您的名字 楊珮珊\n"
          ]
        }
      ]
    },
    {
      "cell_type": "markdown",
      "source": [
        "####python是動態型別，int是整數，float是浮點數，string是字串"
      ],
      "metadata": {
        "id": "bQBYYkcRB_fI"
      }
    },
    {
      "cell_type": "code",
      "source": [
        "name=input(\"請輸入您的姓名：\")\n",
        "type(name)\n",
        "name=100\n",
        "type(name)"
      ],
      "metadata": {
        "id": "FRcNHlR_C5fZ",
        "outputId": "a7670566-7898-457c-a812-dbeae9811674",
        "colab": {
          "base_uri": "https://localhost:8080/"
        }
      },
      "execution_count": 25,
      "outputs": [
        {
          "name": "stdout",
          "output_type": "stream",
          "text": [
            "請輸入您的姓名：楊珮珊\n"
          ]
        },
        {
          "output_type": "execute_result",
          "data": {
            "text/plain": [
              "int"
            ]
          },
          "metadata": {},
          "execution_count": 25
        }
      ]
    }
  ]
}