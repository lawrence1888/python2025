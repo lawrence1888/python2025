{
 "cells": [
  {
   "cell_type": "markdown",
   "id": "cf7ad409",
   "metadata": {},
   "source": [
    "# 操作流程:\n",
    "- 1.創建「實際案例3」資料夾\n",
    "- 2.將app.py和lesson17_2.ipynb放進「實際案例3」資料夾\n",
    "- 3.創建子資料夾「.github」在「實際案例3」資料夾下，並在「.github」中放進兩個md檔(md檔依據自己的需求修改)\n",
    "- 4.使用copilot，在copilo小視窗中左下角選agent\n",
    "- 5.在copilot小視窗中加入兩個md檔，輸入「請依據todolist1.md生成程式碼」(注意copilot可能會叫你一步一步確認，要請他繼續)\n",
    "- 6.啟動整合式終端機，在終端機中輸入 python app.py --csv tips.csv --excel 2025_07_05.xlsx"
   ]
  },
  {
   "cell_type": "markdown",
   "id": "f0a2d5cb",
   "metadata": {},
   "source": []
  }
 ],
 "metadata": {
  "language_info": {
   "name": "python"
  }
 },
 "nbformat": 4,
 "nbformat_minor": 5
}
