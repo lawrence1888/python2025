{
 "cells": [
  {
   "cell_type": "markdown",
   "id": "c0525f8f",
   "metadata": {},
   "source": [
    "# 由visual studio code上傳至雲端\n",
    "- 先儲存->「原始檔控制」->變更中檔案右變有「+」圖示，點選「+」圖示->"
   ]
  }
 ],
 "metadata": {
  "kernelspec": {
   "display_name": "chilee1",
   "language": "python",
   "name": "python3"
  },
  "language_info": {
   "name": "python",
   "version": "3.10.16"
  }
 },
 "nbformat": 4,
 "nbformat_minor": 5
}
