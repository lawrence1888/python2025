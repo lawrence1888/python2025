{
 "cells": [
  {
   "cell_type": "markdown",
   "id": "9af1e716",
   "metadata": {},
   "source": [
    "https://www.perplexity.ai/search/b99dd1ac-2d40-4f7d-ba29-2972671abf18"
   ]
  },
  {
   "cell_type": "code",
   "execution_count": null,
   "id": "19a258b7",
   "metadata": {},
   "outputs": [],
   "source": [
    "#seed(5678)代表隨機數生成器的種子（seed）。這個種子用來初始化隨機數生成器，使得每次使用相同種子時，產生的隨機數序列都是一樣的。\n",
    "\n",
    "import numpy as np\n",
    "\n",
    "np.random.seed(5678)\n",
    "scores = np.random.randint(50, 101, size=(50, 5))\n",
    "scores"
   ]
  },
  {
   "cell_type": "markdown",
   "id": "440c85cb",
   "metadata": {},
   "source": [
    "# * 區分實體還是function(函式)\n",
    "\n",
    "####1. 使用 type() 判斷型態\n",
    "####type(變數) 會回傳變數的型態，例如："
   ]
  },
  {
   "cell_type": "code",
   "execution_count": 2,
   "id": "d7829599",
   "metadata": {},
   "outputs": [
    {
     "name": "stdout",
     "output_type": "stream",
     "text": [
      "<class 'function'>\n",
      "<class '__main__.MyClass'>\n"
     ]
    }
   ],
   "source": [
    "def foo(): pass\n",
    "class MyClass: pass\n",
    "obj = MyClass()\n",
    "\n",
    "print(type(foo))   # <class 'function'>，是函式\n",
    "print(type(obj))   # <class '__main__.MyClass'>，是類別實體"
   ]
  },
  {
   "cell_type": "markdown",
   "id": "bfb89d6b",
   "metadata": {},
   "source": [
    "####2. 使用 inspect 模組判斷是否為函式\n",
    "####更精確地判斷是否為函式："
   ]
  },
  {
   "cell_type": "code",
   "execution_count": 4,
   "id": "e5cb1f26",
   "metadata": {},
   "outputs": [
    {
     "name": "stdout",
     "output_type": "stream",
     "text": [
      "True\n",
      "False\n"
     ]
    }
   ],
   "source": [
    "from inspect import isfunction\n",
    "print(isfunction(foo))  # True，函式\n",
    "print(isfunction(obj))  # False，實體"
   ]
  },
  {
   "cell_type": "markdown",
   "id": "f93785d5",
   "metadata": {},
   "source": [
    "####3. 使用 isinstance() 判斷是否為某類別的實體\n",
    "####判斷一個變數是否為特定類別的實體："
   ]
  },
  {
   "cell_type": "code",
   "execution_count": 5,
   "id": "0a6ae7b1",
   "metadata": {},
   "outputs": [
    {
     "name": "stdout",
     "output_type": "stream",
     "text": [
      "True\n",
      "False\n"
     ]
    }
   ],
   "source": [
    "print(isinstance(obj, MyClass))  # True，obj 是 MyClass 的實體\n",
    "print(isinstance(foo, MyClass))  # False"
   ]
  },
  {
   "cell_type": "code",
   "execution_count": null,
   "id": "b791437d",
   "metadata": {},
   "outputs": [],
   "source": [
    "#DataFrame大小寫要注意，有大寫表示為FUNCTION\n",
    "\n",
    "\n",
    "import pandas as pd\n",
    "pd.DataFrame(scores)"
   ]
  },
  {
   "cell_type": "code",
   "execution_count": null,
   "id": "9c51200a",
   "metadata": {},
   "outputs": [],
   "source": [
    "#f代表建立\n",
    "\n",
    "import pandas as pd\n",
    "\n",
    "df = pd.DataFrame(scores,columns=[\"國文\", \"英文\", \"數學\", \"生物\", \"物理\"],index=[f\"學生{x}\" for x in range(1,51)])\n",
    "df"
   ]
  },
  {
   "cell_type": "code",
   "execution_count": 13,
   "id": "d6a19c38",
   "metadata": {},
   "outputs": [
    {
     "data": {
      "text/plain": [
       "[0, 1, 4, 9]"
      ]
     },
     "execution_count": 13,
     "metadata": {},
     "output_type": "execute_result"
    }
   ],
   "source": [
    "[x**2 for x in range(10) if x < 4]"
   ]
  },
  {
   "cell_type": "code",
   "execution_count": null,
   "id": "13bc6da8",
   "metadata": {},
   "outputs": [],
   "source": [
    "#columns為實體，name為屬性\n",
    "\n",
    "df.columns.name = \"科目\"\n",
    "df.index.name = \"姓名\"\n",
    "df"
   ]
  },
  {
   "cell_type": "code",
   "execution_count": null,
   "id": "2f6adfe9",
   "metadata": {},
   "outputs": [],
   "source": [
    "df[\"國文\"]"
   ]
  },
  {
   "cell_type": "code",
   "execution_count": null,
   "id": "8b3c69f9",
   "metadata": {},
   "outputs": [],
   "source": [
    "sum_series = df['國文'] + df['英文'] + df['數學'] + df['生物'] + df['物理']\n",
    "average_series = sum_series / 5\n",
    "average_series"
   ]
  },
  {
   "cell_type": "code",
   "execution_count": null,
   "id": "64d93296",
   "metadata": {},
   "outputs": [],
   "source": [
    "df['總分'] = sum_series\n",
    "df['平均'] = average_series\n",
    "df"
   ]
  }
 ],
 "metadata": {
  "kernelspec": {
   "display_name": "chilee1",
   "language": "python",
   "name": "python3"
  },
  "language_info": {
   "codemirror_mode": {
    "name": "ipython",
    "version": 3
   },
   "file_extension": ".py",
   "mimetype": "text/x-python",
   "name": "python",
   "nbconvert_exporter": "python",
   "pygments_lexer": "ipython3",
   "version": "3.10.18"
  }
 },
 "nbformat": 4,
 "nbformat_minor": 5
}
