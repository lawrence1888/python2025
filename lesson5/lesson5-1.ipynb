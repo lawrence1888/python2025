{
  "nbformat": 4,
  "nbformat_minor": 0,
  "metadata": {
    "colab": {
      "provenance": [],
      "include_colab_link": true
    },
    "kernelspec": {
      "name": "python3",
      "display_name": "Python 3"
    },
    "language_info": {
      "name": "python"
    }
  },
  "cells": [
    {
      "cell_type": "markdown",
      "metadata": {
        "id": "view-in-github",
        "colab_type": "text"
      },
      "source": [
        "<a href=\"https://colab.research.google.com/github/lawrence1888/python2025/blob/main/lesson5/lesson5-1.ipynb\" target=\"_parent\"><img src=\"https://colab.research.google.com/assets/colab-badge.svg\" alt=\"Open In Colab\"/></a>"
      ]
    },
    {
      "cell_type": "markdown",
      "source": [
        "#結構化程式和結構化資料\n",
        "\n",
        "#程式專案軟體：\n",
        "- anaconda：初學者使用，使用容量大，會在自動建立虛擬環境\n",
        "- pycharm:只開發python，收費\n",
        "- visual studio code:open source\n",
        "\n",
        "\n",
        "#visual studio code下載:\n",
        "- 首次下載visual studio code，也要下載git\n",
        "- 檢查git安裝，要搜尋git bash\n",
        "- 開啟vs code，裝繁體中文\n",
        "- 新增終端機，設定cmd\n",
        "- 在終端機打(https://github.com/roberthsu2003/python/tree/master/vscode%E8%A8%AD%E5%AE%9A)：\n",
        "\n",
        "C:\\Users\\User>git config --global user.name \"lawrence\"\n",
        "\n",
        "C:\\Users\\User>git config --global user.email \"lawrence18880816@gmail.com\"\n",
        "\n",
        "C:\\Users\\User>git config --global pull.rebase false\n",
        "\n",
        "C:\\Users\\User>git config --list\n",
        "\n",
        "\n",
        "#線上github下載到個人電腦\n",
        "- 複製存放庫(左邊第三個圖示)\n",
        "- 授權github\n",
        "- 選擇要的repositories\n",
        "- 文件資料夾中新建github資料夾為存放庫\n",
        "- 開啟\n",
        "\n",
        "\n",
        "#建立虛擬環境(https://github.com/roberthsu2003/python/tree/master/mini_conda)\n",
        "- Miniconda -> Latest Miniconda installer links ->點「 anaconda.com/download.」 ->輸入email ->在email中點下載 ->安裝中注意下載要勾選第二個「......」->\n"
      ],
      "metadata": {
        "id": "k9bEQVhc2i6J"
      }
    },
    {
      "cell_type": "code",
      "execution_count": null,
      "metadata": {
        "id": "5JH4qOt-1i7J"
      },
      "outputs": [],
      "source": []
    }
  ]
}