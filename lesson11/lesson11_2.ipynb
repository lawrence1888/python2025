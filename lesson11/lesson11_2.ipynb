{
 "cells": [
  {
   "cell_type": "markdown",
   "id": "a2005541",
   "metadata": {},
   "source": [
    "(https://www.perplexity.ai/search/4a4e39d4-a079-4907-b920-6e7fe47050c6)"
   ]
  },
  {
   "cell_type": "code",
   "execution_count": 1,
   "id": "3b107849",
   "metadata": {},
   "outputs": [
    {
     "data": {
      "text/plain": [
       "array([69, 96, 92])"
      ]
     },
     "execution_count": 1,
     "metadata": {},
     "output_type": "execute_result"
    }
   ],
   "source": [
    "import numpy as np\n",
    "from numpy import ndarray\n",
    "\n",
    "students:ndarray = np.array([[79, 93, 69, 96, 92],\n",
    "                            [66, 76, 64, 85, 87]])\n",
    "\n",
    "#利用索引,slicing\n",
    "students[0] #取得第1位學生資料\n",
    "students[1] #取得第2位學生資料\n",
    "students[1,0:2] #取得第2位學生資料,前2科分數\n",
    "students[1,:3] #取得第2位學生資料,前3科分數\n",
    "students[0,-3:] #取得第1位學生資料,後3科分數"
   ]
  },
  {
   "cell_type": "code",
   "execution_count": null,
   "id": "5de3e45a",
   "metadata": {},
   "outputs": [],
   "source": [
    "# numpy處理數值，不是處理字串"
   ]
  }
 ],
 "metadata": {
  "kernelspec": {
   "display_name": "chilee1",
   "language": "python",
   "name": "python3"
  },
  "language_info": {
   "codemirror_mode": {
    "name": "ipython",
    "version": 3
   },
   "file_extension": ".py",
   "mimetype": "text/x-python",
   "name": "python",
   "nbconvert_exporter": "python",
   "pygments_lexer": "ipython3",
   "version": "3.10.18"
  }
 },
 "nbformat": 4,
 "nbformat_minor": 5
}
