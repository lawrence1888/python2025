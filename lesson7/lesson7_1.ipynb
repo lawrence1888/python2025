{
 "cells": [
  {
   "cell_type": "code",
   "execution_count": 1,
   "id": "993d1fff",
   "metadata": {},
   "outputs": [
    {
     "name": "stdout",
     "output_type": "stream",
     "text": [
      "20.028841531805796\n",
      "正常範圍\n"
     ]
    }
   ],
   "source": [
    "def caculate_bmi(h:int,w:int)->float:\n",
    "    return w / (h / 100) ** 2\n",
    "\n",
    "def get_state(b:float)->str:\n",
    "    if b < 18.5:\n",
    "        return \"體重過輕\"\n",
    "    elif b < 24:\n",
    "        return \"正常範圍\"\n",
    "    elif b < 27:\n",
    "        return \"過重\"\n",
    "    elif b < 30:\n",
    "        return \"輕度肥胖\"\n",
    "    elif b < 35:\n",
    "        return \"中度肥胖\"\n",
    "    else:\n",
    "        return \"重度肥胖\"\n",
    "\n",
    "height:int = int(input(\"請輸入身高(cm):\"))\n",
    "weight:int = int(input(\"請輸入體重(kg):\"))\n",
    "\n",
    "bmi = caculate_bmi(height, weight)\n",
    "\n",
    "print(bmi)\n",
    "print(get_state(bmi))"
   ]
  },
  {
   "cell_type": "code",
   "execution_count": null,
   "id": "c9095524",
   "metadata": {},
   "outputs": [],
   "source": []
  }
 ],
 "metadata": {
  "kernelspec": {
   "display_name": "chilee1",
   "language": "python",
   "name": "python3"
  },
  "language_info": {
   "codemirror_mode": {
    "name": "ipython",
    "version": 3
   },
   "file_extension": ".py",
   "mimetype": "text/x-python",
   "name": "python",
   "nbconvert_exporter": "python",
   "pygments_lexer": "ipython3",
   "version": "3.10.16"
  }
 },
 "nbformat": 4,
 "nbformat_minor": 5
}
