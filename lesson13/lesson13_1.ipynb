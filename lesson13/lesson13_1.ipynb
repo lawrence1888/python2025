{
 "cells": [
  {
   "cell_type": "markdown",
   "id": "728137bc",
   "metadata": {},
   "source": [
    "https://www.perplexity.ai/search/045ecda7-23bf-4d76-9155-fcb886e2425e"
   ]
  },
  {
   "cell_type": "code",
   "execution_count": 5,
   "id": "ccf0cf64",
   "metadata": {},
   "outputs": [
    {
     "data": {
      "text/plain": [
       "array([[0.30999859, 0.75294933, 0.80854509, 0.42407406],\n",
       "       [0.04647289, 0.39190537, 0.71951122, 0.35225983],\n",
       "       [0.48062038, 0.90549947, 0.61737787, 0.17386184]])"
      ]
     },
     "execution_count": 5,
     "metadata": {},
     "output_type": "execute_result"
    }
   ],
   "source": [
    "#在終端機上打 pip install -r requirements.txt\n",
    "\n",
    "import numpy as np\n",
    "np.random.random()\n",
    "np.random.random(3)\n",
    "np.random.random(size=3)\n",
    "np.random.random((3, 4))\n",
    "np.random.random(size=(3,4))"
   ]
  },
  {
   "cell_type": "code",
   "execution_count": null,
   "id": "87ec5bc4",
   "metadata": {},
   "outputs": [
    {
     "data": {
      "text/plain": [
       "dtype('float64')"
      ]
     },
     "execution_count": 15,
     "metadata": {},
     "output_type": "execute_result"
    }
   ],
   "source": [
    "from numpy.random import normal as nl\n",
    "\n",
    "normal_value = nl(size=(3, 4))\n",
    "#ndarray常用的實體屬性\n",
    "type(normal_value)\n",
    "\n",
    "#ndim維度數=2\n",
    "normal_value.ndim\n",
    "\n",
    "#size為數量=12\n",
    "normal_value.size\n",
    "\n",
    "#shape=(3,4)\n",
    "normal_value.shape\n",
    "\n",
    "#dtype='float64'\n",
    "normal_value.dtype"
   ]
  },
  {
   "cell_type": "code",
   "execution_count": 9,
   "id": "c4e43954",
   "metadata": {},
   "outputs": [
    {
     "data": {
      "text/plain": [
       "array([[ -5.9282161 ,   7.49912431,   8.06325518, -14.37672675],\n",
       "       [ -2.1789871 ,  -9.78941943,  -0.13806628, -10.18572295],\n",
       "       [  7.68128724,  12.36956663,  -7.76248396,   3.90516995]])"
      ]
     },
     "execution_count": 9,
     "metadata": {},
     "output_type": "execute_result"
    }
   ],
   "source": [
    "#ndarray,陣列運算\n",
    "normal_value * 10"
   ]
  },
  {
   "cell_type": "code",
   "execution_count": null,
   "id": "d8e1703f",
   "metadata": {},
   "outputs": [
    {
     "name": "stdout",
     "output_type": "stream",
     "text": [
      "[-0.0425916   1.00792715  0.01627049 -2.06572798]\n",
      "[-0.47425634 -2.22921958  1.61935399]\n"
     ]
    }
   ],
   "source": [
    "#ndarray,的統計\n",
    "normal_value.sum()\n",
    "\n",
    "#axis=0為行\n",
    "normal_valuesum0=normal_value.sum(axis=0)\n",
    "print(normal_valuesum0)\n",
    "#axis=1為列\n",
    "normal_valuesum1=normal_value.sum(axis=1)\n",
    "print(normal_valuesum1)"
   ]
  }
 ],
 "metadata": {
  "kernelspec": {
   "display_name": "chilee1",
   "language": "python",
   "name": "python3"
  },
  "language_info": {
   "codemirror_mode": {
    "name": "ipython",
    "version": 3
   },
   "file_extension": ".py",
   "mimetype": "text/x-python",
   "name": "python",
   "nbconvert_exporter": "python",
   "pygments_lexer": "ipython3",
   "version": "3.10.18"
  }
 },
 "nbformat": 4,
 "nbformat_minor": 5
}
