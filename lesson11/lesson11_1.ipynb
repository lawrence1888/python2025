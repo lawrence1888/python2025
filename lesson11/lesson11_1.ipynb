{
 "cells": [
  {
   "cell_type": "markdown",
   "id": "5ddbdf14",
   "metadata": {},
   "source": [
    "####資料：\n",
    "- * list：搜尋list資料用 for..in..迴圈搜尋\n",
    "- * dictionary(是一組相關的資料)\n",
    "- * numpy(處理快速)"
   ]
  },
  {
   "cell_type": "code",
   "execution_count": 4,
   "id": "d834803a",
   "metadata": {},
   "outputs": [
    {
     "ename": "SyntaxError",
     "evalue": "incomplete input (226750892.py, line 3)",
     "output_type": "error",
     "traceback": [
      "\u001b[1;36m  Cell \u001b[1;32mIn[4], line 3\u001b[1;36m\u001b[0m\n\u001b[1;33m    for score in scores:\u001b[0m\n\u001b[1;37m                        ^\u001b[0m\n\u001b[1;31mSyntaxError\u001b[0m\u001b[1;31m:\u001b[0m incomplete input\n"
     ]
    }
   ],
   "source": [
    "scores:list=[10,20,30,40,50]\n",
    "scores:list=list(range(10,60,10))\n",
    "for score in scores:\n"
   ]
  }
 ],
 "metadata": {
  "kernelspec": {
   "display_name": "chilee1",
   "language": "python",
   "name": "python3"
  },
  "language_info": {
   "codemirror_mode": {
    "name": "ipython",
    "version": 3
   },
   "file_extension": ".py",
   "mimetype": "text/x-python",
   "name": "python",
   "nbconvert_exporter": "python",
   "pygments_lexer": "ipython3",
   "version": "3.10.18"
  }
 },
 "nbformat": 4,
 "nbformat_minor": 5
}
