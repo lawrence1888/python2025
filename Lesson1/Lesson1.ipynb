{
  "nbformat": 4,
  "nbformat_minor": 0,
  "metadata": {
    "colab": {
      "provenance": [],
      "include_colab_link": true
    },
    "kernelspec": {
      "name": "python3",
      "display_name": "Python 3"
    },
    "language_info": {
      "name": "python"
    }
  },
  "cells": [
    {
      "cell_type": "markdown",
      "metadata": {
        "id": "view-in-github",
        "colab_type": "text"
      },
      "source": [
        "<a href=\"https://colab.research.google.com/github/lawrence1888/python2025/blob/main/Lesson1/Lesson1.ipynb\" target=\"_parent\"><img src=\"https://colab.research.google.com/assets/colab-badge.svg\" alt=\"Open In Colab\"/></a>"
      ]
    },
    {
      "cell_type": "markdown",
      "source": [
        "Colab新檔會先存在google drive，要另存「save a copy as Github」，然後\n",
        "\n",
        "\n",
        "\n",
        "#標題大小(最多6個#)\n",
        "#標題1\n",
        "##標題2\n",
        "###標題3\n",
        "####標題4\n",
        "#####標題5\n",
        "######標題6\n",
        "\n",
        "# **\n",
        "#####markdown語法\n",
        "https://gist.github.com/billy3321/1001749662c370887c63bb30f26c9e6e"
      ],
      "metadata": {
        "id": "FHzCX9vdLPlW"
      }
    },
    {
      "cell_type": "code",
      "source": [
        "print(\"Hello! python!\")"
      ],
      "metadata": {
        "colab": {
          "base_uri": "https://localhost:8080/"
        },
        "id": "s5Tm8EQjCkrR",
        "outputId": "e53ab777-00f1-4b89-83a1-6019c0ef6267"
      },
      "execution_count": null,
      "outputs": [
        {
          "output_type": "stream",
          "name": "stdout",
          "text": [
            "Hello! Python!\n"
          ]
        }
      ]
    },
    {
      "cell_type": "code",
      "source": [
        "99**99"
      ],
      "metadata": {
        "id": "KmXDRuu6QX4x",
        "outputId": "52a89751-d382-47fe-8b5b-557955352f67",
        "colab": {
          "base_uri": "https://localhost:8080/"
        }
      },
      "execution_count": null,
      "outputs": [
        {
          "output_type": "execute_result",
          "data": {
            "text/plain": [
              "369729637649726772657187905628805440595668764281741102430259972423552570455277523421410650010128232727940978889548326540119429996769494359451621570193644014418071060667659301384999779999159200499899"
            ]
          },
          "metadata": {},
          "execution_count": 1
        }
      ]
    },
    {
      "cell_type": "code",
      "source": [
        "print(5 + 5)\n",
        "print(90 - 10)\n",
        "print(3**4)"
      ],
      "metadata": {
        "id": "9WOVIYd0RLkn",
        "outputId": "04612768-b679-450f-8377-1f2beac83a1e",
        "colab": {
          "base_uri": "https://localhost:8080/"
        }
      },
      "execution_count": null,
      "outputs": [
        {
          "output_type": "stream",
          "name": "stdout",
          "text": [
            "10\n",
            "80\n",
            "81\n"
          ]
        }
      ]
    }
  ]
}