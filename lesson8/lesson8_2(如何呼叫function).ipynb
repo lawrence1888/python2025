{
 "cells": [
  {
   "cell_type": "markdown",
   "id": "9d3009cc",
   "metadata": {},
   "source": [
    "#如何呼叫function"
   ]
  },
  {
   "cell_type": "code",
   "execution_count": 1,
   "id": "db574978",
   "metadata": {},
   "outputs": [],
   "source": [
    "def menu(wine:str,entree:str,dessert:str)->None:\n",
    "    print(f\"前酒:{wine}\")\n",
    "    print(f\"主餐:{entree}\")\n",
    "    print(f\"甜點:{dessert}\")"
   ]
  },
  {
   "cell_type": "markdown",
   "id": "5d27aca7",
   "metadata": {},
   "source": [
    "# 引數值的呼叫\n",
    "- 要依照參數的順序"
   ]
  },
  {
   "cell_type": "code",
   "execution_count": 2,
   "id": "e665058c",
   "metadata": {},
   "outputs": [
    {
     "name": "stdout",
     "output_type": "stream",
     "text": [
      "前酒:白酒\n",
      "主餐:牛排\n",
      "甜點:蛋糕\n"
     ]
    }
   ],
   "source": [
    "menu(\"白酒\",\"牛排\",\"蛋糕\")"
   ]
  },
  {
   "cell_type": "markdown",
   "id": "a73041c5",
   "metadata": {},
   "source": [
    "#引數名稱的呼叫\n",
    "- 可以不依照順序"
   ]
  },
  {
   "cell_type": "code",
   "execution_count": 3,
   "id": "e4b1ac7a",
   "metadata": {},
   "outputs": [
    {
     "name": "stdout",
     "output_type": "stream",
     "text": [
      "前酒:白酒\n",
      "主餐:牛排\n",
      "甜點:蛋糕\n"
     ]
    }
   ],
   "source": [
    "menu(entree='牛排',dessert='蛋糕',wine='白酒')"
   ]
  },
  {
   "cell_type": "markdown",
   "id": "c403a7d0",
   "metadata": {},
   "source": [
    "# 混合呼叫\n",
    "- 前面使用引數值的呼叫\n",
    "- 後面使用引數名稱的呼叫\n",
    "- 引數名稱後,全部都要用引數名稱"
   ]
  },
  {
   "cell_type": "code",
   "execution_count": 4,
   "id": "e09a25ba",
   "metadata": {},
   "outputs": [
    {
     "name": "stdout",
     "output_type": "stream",
     "text": [
      "前酒:白酒\n",
      "主餐:牛排\n",
      "甜點:蛋糕\n"
     ]
    }
   ],
   "source": [
    "menu('白酒',dessert='蛋糕',entree='牛排')"
   ]
  },
  {
   "cell_type": "markdown",
   "id": "9fb8ece6",
   "metadata": {},
   "source": [
    "# 定義的function參數,可以有預設值\n",
    "- 預設值一定放在最後"
   ]
  },
  {
   "cell_type": "code",
   "execution_count": 5,
   "id": "e7a89dd4",
   "metadata": {},
   "outputs": [],
   "source": [
    "def menu(wine:str,entree:str,dessert:str='奶昔')->None:\n",
    "    print(f\"前酒:{wine}\")\n",
    "    print(f\"主餐:{entree}\")\n",
    "    print(f\"甜點:{dessert}\")"
   ]
  },
  {
   "cell_type": "markdown",
   "id": "5b76cb54",
   "metadata": {},
   "source": [
    "呼叫時,有預設值的參數,可以省略引數值"
   ]
  },
  {
   "cell_type": "code",
   "execution_count": 6,
   "id": "3b7c3e0a",
   "metadata": {},
   "outputs": [
    {
     "name": "stdout",
     "output_type": "stream",
     "text": [
      "前酒:白酒\n",
      "主餐:牛排\n",
      "甜點:奶昔\n"
     ]
    }
   ],
   "source": [
    "menu('白酒','牛排')"
   ]
  },
  {
   "cell_type": "code",
   "execution_count": 7,
   "id": "f8c3cdab",
   "metadata": {},
   "outputs": [
    {
     "name": "stdout",
     "output_type": "stream",
     "text": [
      "前酒:白酒\n",
      "主餐:牛排\n",
      "甜點:蛋糕\n"
     ]
    }
   ],
   "source": [
    "\n",
    "menu('白酒','牛排',dessert=\"蛋糕\")"
   ]
  },
  {
   "cell_type": "code",
   "execution_count": 8,
   "id": "f3f8cefa",
   "metadata": {},
   "outputs": [],
   "source": [
    "def menu(wine:str,entree:str='雞排',dessert:str='奶昔')->None:\n",
    "    print(f\"前酒:{wine}\")\n",
    "    print(f\"主餐:{entree}\")\n",
    "    print(f\"甜點:{dessert}\")"
   ]
  },
  {
   "cell_type": "code",
   "execution_count": 9,
   "id": "9da62e53",
   "metadata": {},
   "outputs": [
    {
     "name": "stdout",
     "output_type": "stream",
     "text": [
      "前酒:白酒\n",
      "主餐:雞排\n",
      "甜點:奶昔\n"
     ]
    }
   ],
   "source": [
    "menu('白酒')"
   ]
  },
  {
   "cell_type": "code",
   "execution_count": 10,
   "id": "c7ab89e8",
   "metadata": {},
   "outputs": [
    {
     "name": "stdout",
     "output_type": "stream",
     "text": [
      "前酒:白酒\n",
      "主餐:雞排\n",
      "甜點:蛋糕\n"
     ]
    }
   ],
   "source": [
    "menu('白酒',dessert=\"蛋糕\")"
   ]
  }
 ],
 "metadata": {
  "kernelspec": {
   "display_name": "chilee1",
   "language": "python",
   "name": "python3"
  },
  "language_info": {
   "codemirror_mode": {
    "name": "ipython",
    "version": 3
   },
   "file_extension": ".py",
   "mimetype": "text/x-python",
   "name": "python",
   "nbconvert_exporter": "python",
   "pygments_lexer": "ipython3",
   "version": "3.10.16"
  }
 },
 "nbformat": 4,
 "nbformat_minor": 5
}
