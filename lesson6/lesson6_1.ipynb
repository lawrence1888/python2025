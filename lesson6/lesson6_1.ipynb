{
 "cells": [
  {
   "cell_type": "markdown",
   "id": "c0525f8f",
   "metadata": {},
   "source": [
    "# 由visual studio code上傳程式至雲端\n",
    "- 檔案名稱旁出現「●」表示有變更但未存檔\n",
    "- 先儲存(ctrl+s)->按左邊第三個圖示「原始檔控制」->變更下檔案名稱右邊有「+」圖示，點選「+」圖示->檔案變成暫存變更\n",
    "- 變更訊息要輸入文字->提交->跳出視窗按「是」\n",
    "- 按同步變更->跳出視窗按「確定」->上傳程式至雲端"
   ]
  }
 ],
 "metadata": {
  "kernelspec": {
   "display_name": "chilee1",
   "language": "python",
   "name": "python3"
  },
  "language_info": {
   "name": "python",
   "version": "3.10.16"
  }
 },
 "nbformat": 4,
 "nbformat_minor": 5
}
