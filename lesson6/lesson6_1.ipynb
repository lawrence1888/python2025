{
 "cells": [
  {
   "cell_type": "markdown",
   "id": "c0525f8f",
   "metadata": {},
   "source": [
    "# 由visual studio code上傳程式至雲端\n",
    "- 先儲存(ctrl+s)->左邊第三個圖示「原始檔控制」->變更中檔案右邊有「+」圖示，點選「+」圖示->變成暫存變更\n",
    "- 變更訊息要輸入文字->提交->跳出視窗按「是」\n",
    "- 按同步變更->跳出視窗按「是」->上傳程式至雲端"
   ]
  }
 ],
 "metadata": {
  "kernelspec": {
   "display_name": "chilee1",
   "language": "python",
   "name": "python3"
  },
  "language_info": {
   "name": "python",
   "version": "3.10.16"
  }
 },
 "nbformat": 4,
 "nbformat_minor": 5
}
