{
 "cells": [
  {
   "cell_type": "code",
   "execution_count": null,
   "id": "c0525f8f",
   "metadata": {},
   "outputs": [],
   "source": [
    "#由visual studio code上傳至雲端\n",
    "#先儲存->「原始檔控制」->變更中檔案右變+圖示點ㄒㄩㄢ"
   ]
  }
 ],
 "metadata": {
  "kernelspec": {
   "display_name": "chilee1",
   "language": "python",
   "name": "python3"
  },
  "language_info": {
   "name": "python",
   "version": "3.10.16"
  }
 },
 "nbformat": 4,
 "nbformat_minor": 5
}
