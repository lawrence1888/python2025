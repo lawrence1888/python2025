{
  "nbformat": 4,
  "nbformat_minor": 0,
  "metadata": {
    "colab": {
      "provenance": [],
      "authorship_tag": "ABX9TyPyTif9Uj90yqxo89zG8C0B",
      "include_colab_link": true
    },
    "kernelspec": {
      "name": "python3",
      "display_name": "Python 3"
    },
    "language_info": {
      "name": "python"
    }
  },
  "cells": [
    {
      "cell_type": "markdown",
      "metadata": {
        "id": "view-in-github",
        "colab_type": "text"
      },
      "source": [
        "<a href=\"https://colab.research.google.com/github/lawrence1888/python2025/blob/main/lesson6/lesson6_1.ipynb\" target=\"_parent\"><img src=\"https://colab.research.google.com/assets/colab-badge.svg\" alt=\"Open In Colab\"/></a>"
      ]
    },
    {
      "cell_type": "markdown",
      "source": [
        "# 新增資料夾\n",
        "# 自動儲存\n",
        "- 設定(左下角齒輪設定)->設定->file選「after delay」，即可儲存\n",
        "# 新增檔案\n",
        "- 檔名後加.ipynb後新增->右上角「選取核心」選擇自己建立的虛擬環境(chilee1)，+號下拉選擇「選取預設設定檔」->搜尋視窗選「CMD」->輸入文字和程式\n",
        "- 檔名後加.py後新增->資料夾右鍵「在整合是終端機開啟」->右下角虛擬環境選取自己建立的虛擬環境chilee1->+號下拉選擇「選取預設設定檔」->搜尋視窗選「CMD」->輸入文字和程式"
      ],
      "metadata": {
        "id": "wdoVQHPkxA3U"
      }
    },
    {
      "cell_type": "markdown",
      "source": [
        "# 由visual studio code上傳程式至雲端\n",
        "- 檔案名稱旁出現「●」表示有變更但未存檔\n",
        "- 先儲存(ctrl+s)->按左邊第三個圖示「原始檔控制」->變更下檔案名稱右邊有「+」圖示，點選「+」圖示->檔案變成暫存變更\n",
        "- 變更訊息要輸入文字->提交->跳出視窗按「是」\n",
        "- 按同步變更->跳出視窗按「確定」->上傳程式至雲端"
      ],
      "metadata": {
        "id": "cj7EBg0DxIn6"
      }
    }
  ]
}