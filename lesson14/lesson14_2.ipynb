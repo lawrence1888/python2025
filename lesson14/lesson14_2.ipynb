{
 "cells": [
  {
   "cell_type": "markdown",
   "id": "05b611eb",
   "metadata": {},
   "source": [
    "#在終端機上打 pip install -r requirements.txt"
   ]
  }
 ],
 "metadata": {
  "language_info": {
   "name": "python"
  }
 },
 "nbformat": 4,
 "nbformat_minor": 5
}
