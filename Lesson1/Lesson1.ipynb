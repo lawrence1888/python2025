{
  "nbformat": 4,
  "nbformat_minor": 0,
  "metadata": {
    "colab": {
      "provenance": [],
      "authorship_tag": "ABX9TyMkvI7hu9DnLB0kHbgnbYRE",
      "include_colab_link": true
    },
    "kernelspec": {
      "name": "python3",
      "display_name": "Python 3"
    },
    "language_info": {
      "name": "python"
    }
  },
  "cells": [
    {
      "cell_type": "markdown",
      "metadata": {
        "id": "view-in-github",
        "colab_type": "text"
      },
      "source": [
        "<a href=\"https://colab.research.google.com/github/lawrence1888/python2025/blob/main/Lesson1/Lesson1.ipynb\" target=\"_parent\"><img src=\"https://colab.research.google.com/assets/colab-badge.svg\" alt=\"Open In Colab\"/></a>"
      ]
    },
    {
      "cell_type": "markdown",
      "source": [
        "#標題1\n",
        "##標題2\n",
        "###標題3\n",
        "####標題4\n",
        "#####標題5\n",
        "######標題6\n",
        "\n",
        "最多6個"
      ],
      "metadata": {
        "id": "FHzCX9vdLPlW"
      }
    },
    {
      "cell_type": "code",
      "source": [],
      "metadata": {
        "id": "KJ3qmyNQPUAt"
      },
      "execution_count": null,
      "outputs": []
    },
    {
      "cell_type": "code",
      "source": [
        "print(\"Hello! python!\")"
      ],
      "metadata": {
        "colab": {
          "base_uri": "https://localhost:8080/"
        },
        "id": "s5Tm8EQjCkrR",
        "outputId": "e53ab777-00f1-4b89-83a1-6019c0ef6267"
      },
      "execution_count": null,
      "outputs": [
        {
          "output_type": "stream",
          "name": "stdout",
          "text": [
            "Hello! Python!\n"
          ]
        }
      ]
    }
  ]
}