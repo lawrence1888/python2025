{
  "nbformat": 4,
  "nbformat_minor": 0,
  "metadata": {
    "colab": {
      "provenance": [],
      "authorship_tag": "ABX9TyOo5yGKSGN9+BfR9VMWYYTn",
      "include_colab_link": true
    },
    "kernelspec": {
      "name": "python3",
      "display_name": "Python 3"
    },
    "language_info": {
      "name": "python"
    }
  },
  "cells": [
    {
      "cell_type": "markdown",
      "metadata": {
        "id": "view-in-github",
        "colab_type": "text"
      },
      "source": [
        "<a href=\"https://colab.research.google.com/github/lawrence1888/python2025/blob/main/lesson5/lesson5-1.ipynb\" target=\"_parent\"><img src=\"https://colab.research.google.com/assets/colab-badge.svg\" alt=\"Open In Colab\"/></a>"
      ]
    },
    {
      "cell_type": "markdown",
      "source": [
        "#結構化程式和結構化資料\n",
        "\n",
        "#程式專案軟體：\n",
        "- anaconda：初學者使用，使用容量大\n",
        "- pycharm:只開發python，收費\n",
        "- visual studio code:open source\n",
        "\n",
        "\n",
        "#visual studio code下載:\n",
        "-\n"
      ],
      "metadata": {
        "id": "k9bEQVhc2i6J"
      }
    },
    {
      "cell_type": "code",
      "execution_count": null,
      "metadata": {
        "id": "5JH4qOt-1i7J"
      },
      "outputs": [],
      "source": []
    }
  ]
}