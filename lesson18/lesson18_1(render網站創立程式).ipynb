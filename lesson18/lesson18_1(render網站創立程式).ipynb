{
 "cells": [
  {
   "cell_type": "markdown",
   "id": "55cdbbe6",
   "metadata": {},
   "source": [
    "#登入render網站\n",
    "- 用github登入\n",
    "- 新增statis site"
   ]
  }
 ],
 "metadata": {
  "language_info": {
   "name": "python"
  }
 },
 "nbformat": 4,
 "nbformat_minor": 5
}
