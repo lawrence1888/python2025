{
  "cells": [
    {
      "cell_type": "markdown",
      "metadata": {
        "colab_type": "text",
        "id": "view-in-github"
      },
      "source": [
        "<a href=\"https://colab.research.google.com/github/lawrence1888/python2025/blob/main/lesson5/lesson5-1(%E5%AE%89%E8%A3%9D%E8%88%87%E4%BB%8B%E7%B4%B9vs%E8%BB%9F%E9%AB%94).ipynb\" target=\"_parent\"><img src=\"https://colab.research.google.com/assets/colab-badge.svg\" alt=\"Open In Colab\"/></a>"
      ]
    },
    {
      "cell_type": "markdown",
      "metadata": {
        "id": "k9bEQVhc2i6J"
      },
      "source": [
        "#結構化程式和結構化資料\n",
        "\n",
        "#程式專案軟體：\n",
        "- anaconda：初學者使用，使用容量大，會在自動建立虛擬環境\n",
        "- pycharm:只開發python，收費\n",
        "- visual studio code:open source\n",
        "\n",
        "\n",
        "#visual studio code下載:\n",
        "- 首次下載visual studio code，也要下載git\n",
        "- 檢查git安裝，要搜尋git bash\n",
        "- 開啟vs code，裝繁體中文\n",
        "- 新增終端機，設定cmd\n",
        "- 在終端機打(https://github.com/roberthsu2003/python/tree/master/vscode%E8%A8%AD%E5%AE%9A)：\n",
        "\n",
        "C:\\Users\\User>git config --global user.name \"lawrence\"\n",
        "\n",
        "C:\\Users\\User>git config --global user.email \"lawrence18880816@gmail.com\"\n",
        "\n",
        "C:\\Users\\User>git config --global pull.rebase false\n",
        "\n",
        "C:\\Users\\User>git config --list\n",
        "\n",
        "\n",
        "#線上github下載到個人電腦\n",
        "- 複製存放庫(左邊第三個圖示)\n",
        "- 授權github\n",
        "- 選擇要的repositories\n",
        "- 文件資料夾中新建github資料夾為存放庫\n",
        "- 開啟\n",
        "\n",
        "\n",
        "#建立虛擬環境\n",
        "(https://github.com/roberthsu2003/python/tree/master/mini_conda)\n",
        "- Miniconda -> Latest Miniconda installer links ->點「anaconda.com/download.」 ->輸入email ->在email中點下載 ->安裝中注意just me 和勾選第二個「......」\n",
        "- 重新開啟visual studio code，建立新的終端機，選cmd\n",
        "- 首次安裝Miniconda，輸入：\n",
        "\n",
        "conda config --set auto_activate_base false(首次安裝才需輸入)\n",
        "\n",
        "conda init --all bash(首次安裝才需輸入)\n",
        "\n",
        "conda env list\n",
        "\n",
        "conda create --name myenv python=3.10(myenv可以改成其他名稱，我想改成chilee1)\n",
        "\n",
        "(問題出現，輸入y)\n",
        "\n",
        "\n",
        "#啟動虛擬環境\n",
        "conda activate myenv\n",
        "\n",
        "#離開虛擬環境\n",
        "conda deactivate\n",
        "\n",
        "#安裝python、jupyter\n",
        "- 左圖第四個圖示搜尋python和jupyter(選jupyter圖示有4字樣)，按安裝"
      ]
    },
    {
      "cell_type": "code",
      "execution_count": null,
      "metadata": {
        "id": "5JH4qOt-1i7J"
      },
      "outputs": [],
      "source": []
    }
  ],
  "metadata": {
    "colab": {
      "include_colab_link": true,
      "provenance": []
    },
    "kernelspec": {
      "display_name": "chilee1",
      "language": "python",
      "name": "python3"
    },
    "language_info": {
      "name": "python",
      "version": "3.10.18"
    }
  },
  "nbformat": 4,
  "nbformat_minor": 0
}
