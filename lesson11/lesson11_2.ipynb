{
 "cells": [
  {
   "cell_type": "markdown",
   "id": "a2005541",
   "metadata": {},
   "source": [
    "student[0]"
   ]
  }
 ],
 "metadata": {
  "language_info": {
   "name": "python"
  }
 },
 "nbformat": 4,
 "nbformat_minor": 5
}
