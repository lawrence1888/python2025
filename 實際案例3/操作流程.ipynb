{
 "cells": [
  {
   "cell_type": "markdown",
   "id": "cf7ad409",
   "metadata": {},
   "source": [
    "# 操作流程:\n",
    "- 1.創建「實際案例3」資料夾\n",
    "- 2.將app.py和lesson17_2.ipynb放進「實際案例3」資料夾\n",
    "- 3.創建子資料夾「.github」在「實際案例3」資料夾下，並在「.github」中放進兩個md檔\n"
   ]
  }
 ],
 "metadata": {
  "language_info": {
   "name": "python"
  }
 },
 "nbformat": 4,
 "nbformat_minor": 5
}
